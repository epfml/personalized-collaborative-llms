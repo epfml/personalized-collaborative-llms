{
 "cells": [
  {
   "cell_type": "code",
   "id": "initial_id",
   "metadata": {
    "collapsed": true,
    "ExecuteTime": {
     "end_time": "2024-06-01T14:59:29.679557Z",
     "start_time": "2024-06-01T14:59:26.709928Z"
    }
   },
   "source": [
    "from datasets import load_dataset\n",
    "\n",
    "ds = load_dataset(\"codeparrot/github-code-clean\", streaming=True, split=\"train\", languages=[\"Java\"])"
   ],
   "outputs": [],
   "execution_count": 4
  },
  {
   "metadata": {
    "ExecuteTime": {
     "end_time": "2024-06-01T14:59:29.699882Z",
     "start_time": "2024-06-01T14:59:29.686324Z"
    }
   },
   "cell_type": "code",
   "source": "ds = iter(ds)",
   "id": "ccbb244940324e3e",
   "outputs": [],
   "execution_count": 5
  },
  {
   "metadata": {
    "ExecuteTime": {
     "end_time": "2024-06-01T14:59:36.117911Z",
     "start_time": "2024-06-01T14:59:29.708180Z"
    }
   },
   "cell_type": "code",
   "source": "next(ds)",
   "id": "cac727183d52863d",
   "outputs": [
    {
     "data": {
      "text/plain": [
       "{'code': '/**\\n * The MIT License Copyright (c) 2015 Teal Cube Games\\n *\\n * Permission is hereby granted, free of charge, to any person obtaining a copy of this software and\\n * associated documentation files (the \"Software\"), to deal in the Software without restriction,\\n * including without limitation the rights to use, copy, modify, merge, publish, distribute,\\n * sublicense, and/or sell copies of the Software, and to permit persons to whom the Software is\\n * furnished to do so, subject to the following conditions:\\n *\\n * The above copyright notice and this permission notice shall be included in all copies or\\n * substantial portions of the Software.\\n *\\n * THE SOFTWARE IS PROVIDED \"AS IS\", WITHOUT WARRANTY OF ANY KIND, EXPRESS OR IMPLIED, INCLUDING BUT\\n * NOT LIMITED TO THE WARRANTIES OF MERCHANTABILITY, FITNESS FOR A PARTICULAR PURPOSE AND\\n * NONINFRINGEMENT. IN NO EVENT SHALL THE AUTHORS OR COPYRIGHT HOLDERS BE LIABLE FOR ANY CLAIM,\\n * DAMAGES OR OTHER LIABILITY, WHETHER IN AN ACTION OF CONTRACT, TORT OR OTHERWISE, ARISING FROM,\\n * OUT OF OR IN CONNECTION WITH THE SOFTWARE OR THE USE OR OTHER DEALINGS IN THE SOFTWARE.\\n */\\npackage land.face.strife.managers;\\n\\nimport java.util.Map;\\nimport java.util.concurrent.ConcurrentHashMap;\\nimport land.face.strife.StrifePlugin;\\nimport land.face.strife.data.champion.Champion;\\nimport land.face.strife.data.champion.LifeSkillType;\\nimport org.bukkit.entity.Player;\\n\\npublic class CombatStatusManager {\\n\\n  private final StrifePlugin plugin;\\n  private final Map<Player, Integer> tickMap = new ConcurrentHashMap<>();\\n\\n  private static final int SECONDS_TILL_EXPIRY = 8;\\n\\n  public CombatStatusManager(StrifePlugin plugin) {\\n    this.plugin = plugin;\\n  }\\n\\n  public boolean isInCombat(Player player) {\\n    return tickMap.containsKey(player);\\n  }\\n\\n  public void addPlayer(Player player) {\\n    tickMap.put(player, SECONDS_TILL_EXPIRY);\\n  }\\n\\n  public void tickCombat() {\\n    for (Player player : tickMap.keySet()) {\\n      if (!player.isOnline() || !player.isValid()) {\\n        tickMap.remove(player);\\n        continue;\\n      }\\n      int ticksLeft = tickMap.get(player);\\n      if (ticksLeft < 1) {\\n        doExitCombat(player);\\n        tickMap.remove(player);\\n        continue;\\n      }\\n      tickMap.put(player, ticksLeft - 1);\\n    }\\n  }\\n\\n  public void doExitCombat(Player player) {\\n    if (!tickMap.containsKey(player)) {\\n      return;\\n    }\\n    Champion champion = plugin.getChampionManager().getChampion(player);\\n    if (champion.getDetailsContainer().getExpValues() == null) {\\n      return;\\n    }\\n    for (LifeSkillType type : champion.getDetailsContainer().getExpValues().keySet()) {\\n      plugin.getSkillExperienceManager().addExperience(player, type,\\n          champion.getDetailsContainer().getExpValues().get(type), false, false);\\n    }\\n    champion.getDetailsContainer().clearAll();\\n  }\\n}\\n',\n",
       " 'repo_name': 'TealCube/strife',\n",
       " 'path': 'src/main/java/land/face/strife/managers/CombatStatusManager.java',\n",
       " 'language': 'Java',\n",
       " 'license': 'isc',\n",
       " 'size': 2828}"
      ]
     },
     "execution_count": 6,
     "metadata": {},
     "output_type": "execute_result"
    }
   ],
   "execution_count": 6
  },
  {
   "metadata": {
    "ExecuteTime": {
     "end_time": "2024-06-01T14:59:36.130070Z",
     "start_time": "2024-06-01T14:59:36.123506Z"
    }
   },
   "cell_type": "code",
   "source": "",
   "id": "1df54568679c1e0a",
   "outputs": [],
   "execution_count": 6
  }
 ],
 "metadata": {
  "kernelspec": {
   "display_name": "Python 3",
   "language": "python",
   "name": "python3"
  },
  "language_info": {
   "codemirror_mode": {
    "name": "ipython",
    "version": 2
   },
   "file_extension": ".py",
   "mimetype": "text/x-python",
   "name": "python",
   "nbconvert_exporter": "python",
   "pygments_lexer": "ipython2",
   "version": "2.7.6"
  }
 },
 "nbformat": 4,
 "nbformat_minor": 5
}
